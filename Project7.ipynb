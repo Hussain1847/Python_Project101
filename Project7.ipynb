{
  "nbformat": 4,
  "nbformat_minor": 0,
  "metadata": {
    "colab": {
      "provenance": [],
      "authorship_tag": "ABX9TyOEC5HJv2c+B65C1eAG65n5",
      "include_colab_link": true
    },
    "kernelspec": {
      "name": "python3",
      "display_name": "Python 3"
    },
    "language_info": {
      "name": "python"
    }
  },
  "cells": [
    {
      "cell_type": "markdown",
      "metadata": {
        "id": "view-in-github",
        "colab_type": "text"
      },
      "source": [
        "<a href=\"https://colab.research.google.com/github/Hussain1847/Python_Project101/blob/main/Project7.ipynb\" target=\"_parent\"><img src=\"https://colab.research.google.com/assets/colab-badge.svg\" alt=\"Open In Colab\"/></a>"
      ]
    },
    {
      "cell_type": "code",
      "execution_count": 1,
      "metadata": {
        "colab": {
          "base_uri": "https://localhost:8080/"
        },
        "id": "IrAqGPOixU-V",
        "outputId": "ddd55e7f-ed81-41a0-9a8f-8ef6956e5bc3"
      },
      "outputs": [
        {
          "output_type": "stream",
          "name": "stdout",
          "text": [
            "Welcome To Password Generator\n",
            "Amount of passwords to generate: 4\n",
            "Input your password length: 4\n",
            "\n",
            "here are your passwords: \n",
            "Password : H=RS\n",
            "Password : WGhp\n",
            "Password : J@y8\n",
            "Password : Ztot\n"
          ]
        }
      ],
      "source": [
        "import random\n",
        "\n",
        "print('Welcome To Password Generator')\n",
        "\n",
        "chars = 'ABCDEFGHIJKLMNOPQRSTUVWXYZabcdefghijklmnopqrstuvwxyz0123456789@#$%&*='\n",
        "\n",
        "\n",
        "output = input('Amount of passwords to generate: ')\n",
        "number = int(output)\n",
        "\n",
        "length = input('Input your password length: ')\n",
        "length = int(length)\n",
        "\n",
        "print('\\nhere are your passwords: ')\n",
        "\n",
        "for pwd in range(number):\n",
        "    passwords = ''\n",
        "\n",
        "\n",
        "    for c in range(length):\n",
        "        passwords += random.choice(chars)\n",
        "\n",
        "    print(f'Password : {passwords}')"
      ]
    }
  ]
}