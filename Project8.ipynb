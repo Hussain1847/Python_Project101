{
  "nbformat": 4,
  "nbformat_minor": 0,
  "metadata": {
    "colab": {
      "provenance": [],
      "authorship_tag": "ABX9TyNVmdyULi33m5E0ExPi2pm/",
      "include_colab_link": true
    },
    "kernelspec": {
      "name": "python3",
      "display_name": "Python 3"
    },
    "language_info": {
      "name": "python"
    }
  },
  "cells": [
    {
      "cell_type": "markdown",
      "metadata": {
        "id": "view-in-github",
        "colab_type": "text"
      },
      "source": [
        "<a href=\"https://colab.research.google.com/github/Hussain1847/Python_Project101/blob/main/Project8.ipynb\" target=\"_parent\"><img src=\"https://colab.research.google.com/assets/colab-badge.svg\" alt=\"Open In Colab\"/></a>"
      ]
    },
    {
      "cell_type": "code",
      "execution_count": 18,
      "metadata": {
        "colab": {
          "base_uri": "https://localhost:8080/"
        },
        "id": "dUq9jssIx8tc",
        "outputId": "eb50db01-f592-413c-9749-fe2b28b5b824"
      },
      "outputs": [
        {
          "output_type": "stream",
          "name": "stdout",
          "text": [
            "Enter your weight in kg: 56\n",
            "Enter your height in meters: 56\n",
            "Your BMI is: 0.02\n",
            "You are underweight.\n"
          ]
        }
      ],
      "source": [
        "#@title BMI Calculator {run: \"auto\"}\n",
        "weight = float(input(\"Enter your weight in kg: \"))  # User enters weight\n",
        "height = float(input(\"Enter your height in meters: \"))  # User enters height\n",
        "\n",
        "bmi = weight / (height ** 2)\n",
        "print(f\"Your BMI is: {bmi:.2f}\")\n",
        "\n",
        "# BMI Classification\n",
        "if bmi < 18.5:\n",
        "    print(\"You are underweight.\")\n",
        "elif 18.5 <= bmi < 24.9:\n",
        "    print(\"You have a normal weight.\")\n",
        "elif 25 <= bmi < 29.9:\n",
        "    print(\"You are overweight.\")\n",
        "else:\n",
        "    print(\"You are obese.\")\n",
        "\n",
        "\n"
      ]
    }
  ]
}