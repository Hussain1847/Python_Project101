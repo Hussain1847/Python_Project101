{
  "nbformat": 4,
  "nbformat_minor": 0,
  "metadata": {
    "colab": {
      "provenance": [],
      "authorship_tag": "ABX9TyPpWVUxYph+sG3MYzgWgpWJ",
      "include_colab_link": true
    },
    "kernelspec": {
      "name": "python3",
      "display_name": "Python 3"
    },
    "language_info": {
      "name": "python"
    }
  },
  "cells": [
    {
      "cell_type": "markdown",
      "metadata": {
        "id": "view-in-github",
        "colab_type": "text"
      },
      "source": [
        "<a href=\"https://colab.research.google.com/github/Hussain1847/Python_Project101/blob/main/Project1.ipynb\" target=\"_parent\"><img src=\"https://colab.research.google.com/assets/colab-badge.svg\" alt=\"Open In Colab\"/></a>"
      ]
    },
    {
      "cell_type": "code",
      "execution_count": 1,
      "metadata": {
        "colab": {
          "base_uri": "https://localhost:8080/"
        },
        "id": "D4juwdb8oU-y",
        "outputId": "4c96307c-4dcd-492b-c845-363683813281"
      },
      "outputs": [
        {
          "output_type": "stream",
          "name": "stdout",
          "text": [
            "Adjective: grs\n",
            "Verb: yhtr\n",
            "Verb: htr\n",
            "Famous person: gyt\n",
            "Computer programming is so grs! It makes me so excited all the time because I love to yhtr. Stay hydrated and htr like you are gyt!\n"
          ]
        }
      ],
      "source": [
        "# string concatenation (aka how to put strings together)\n",
        "# suppose we want to create a string that says \"subscribe to ....\"\n",
        "#youtuber = \"PIAIC\" #some string variable\n",
        "\n",
        "#a few ways to do this\n",
        "#print(\"subscribe to \" + youtuber)\n",
        "#print(\"subscribe to {}\".format(youtuber))\n",
        "#print(f\"subscribe to {youtuber}\")\n",
        "\n",
        "adj = input(\"Adjective: \")\n",
        "verb1 = input(\"Verb: \")\n",
        "verb2 = input(\"Verb: \")\n",
        "famous_person = input(\"Famous person: \")\n",
        "\n",
        "madlib = f\"Computer programming is so {adj}! It makes me so excited all the time because \\\n",
        "I love to {verb1}. Stay hydrated and {verb2} like you are {famous_person}!\"\n",
        "\n",
        "print(madlib)"
      ]
    }
  ]
}